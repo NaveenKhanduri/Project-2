{
 "cells": [
  {
   "cell_type": "code",
   "execution_count": 165,
   "metadata": {},
   "outputs": [],
   "source": [
    "from sklearn import tree\n",
    "import pandas as pd\n",
    "import os\n",
    "import numpy as np"
   ]
  },
  {
   "cell_type": "code",
   "execution_count": 87,
   "metadata": {},
   "outputs": [
    {
     "data": {
      "text/html": [
       "<div>\n",
       "<style scoped>\n",
       "    .dataframe tbody tr th:only-of-type {\n",
       "        vertical-align: middle;\n",
       "    }\n",
       "\n",
       "    .dataframe tbody tr th {\n",
       "        vertical-align: top;\n",
       "    }\n",
       "\n",
       "    .dataframe thead th {\n",
       "        text-align: right;\n",
       "    }\n",
       "</style>\n",
       "<table border=\"1\" class=\"dataframe\">\n",
       "  <thead>\n",
       "    <tr style=\"text-align: right;\">\n",
       "      <th></th>\n",
       "      <th>Sl_No</th>\n",
       "      <th>loan_amnt</th>\n",
       "      <th>fico_range_avg</th>\n",
       "      <th>dti</th>\n",
       "      <th>emp_length</th>\n",
       "      <th>policy_code</th>\n",
       "    </tr>\n",
       "  </thead>\n",
       "  <tbody>\n",
       "    <tr>\n",
       "      <th>0</th>\n",
       "      <td>0</td>\n",
       "      <td>5000.0</td>\n",
       "      <td>737.0</td>\n",
       "      <td>27.65</td>\n",
       "      <td>10.0</td>\n",
       "      <td>1.0</td>\n",
       "    </tr>\n",
       "    <tr>\n",
       "      <th>1</th>\n",
       "      <td>1</td>\n",
       "      <td>2500.0</td>\n",
       "      <td>742.0</td>\n",
       "      <td>1.00</td>\n",
       "      <td>1.0</td>\n",
       "      <td>1.0</td>\n",
       "    </tr>\n",
       "    <tr>\n",
       "      <th>2</th>\n",
       "      <td>2</td>\n",
       "      <td>2400.0</td>\n",
       "      <td>737.0</td>\n",
       "      <td>8.72</td>\n",
       "      <td>10.0</td>\n",
       "      <td>1.0</td>\n",
       "    </tr>\n",
       "    <tr>\n",
       "      <th>3</th>\n",
       "      <td>3</td>\n",
       "      <td>10000.0</td>\n",
       "      <td>692.0</td>\n",
       "      <td>20.00</td>\n",
       "      <td>10.0</td>\n",
       "      <td>1.0</td>\n",
       "    </tr>\n",
       "    <tr>\n",
       "      <th>4</th>\n",
       "      <td>4</td>\n",
       "      <td>3000.0</td>\n",
       "      <td>697.0</td>\n",
       "      <td>17.94</td>\n",
       "      <td>1.0</td>\n",
       "      <td>1.0</td>\n",
       "    </tr>\n",
       "  </tbody>\n",
       "</table>\n",
       "</div>"
      ],
      "text/plain": [
       "   Sl_No  loan_amnt  fico_range_avg    dti  emp_length  policy_code\n",
       "0      0     5000.0           737.0  27.65        10.0          1.0\n",
       "1      1     2500.0           742.0   1.00         1.0          1.0\n",
       "2      2     2400.0           737.0   8.72        10.0          1.0\n",
       "3      3    10000.0           692.0  20.00        10.0          1.0\n",
       "4      4     3000.0           697.0  17.94         1.0          1.0"
      ]
     },
     "execution_count": 87,
     "metadata": {},
     "output_type": "execute_result"
    }
   ],
   "source": [
    "df = pd.read_csv(\"combine_data.csv\")\n",
    "for col in df.columns.values:\n",
    "    df[col].fillna(0)\n",
    "# this step needs to look at .\n",
    "#df = df.fillna(0)\n",
    "#df['policy_code'] = df['policy_code'].astype(int)\n",
    "#df['emp_length'] = df['emp_length'].astype(int)\n",
    "#df['dti'].fillna(0)\n",
    "df['dti'] = df['dti'].str.rstrip('%').astype('float')\n",
    "df = df.rename(columns = {\"Unnamed: 0\":\"Sl_No\"})\n",
    "df.set_index('Sl_No')\n",
    "\n",
    "\n",
    "df.head()\n"
   ]
  },
  {
   "cell_type": "code",
   "execution_count": 76,
   "metadata": {},
   "outputs": [
    {
     "data": {
      "text/html": [
       "<div>\n",
       "<style scoped>\n",
       "    .dataframe tbody tr th:only-of-type {\n",
       "        vertical-align: middle;\n",
       "    }\n",
       "\n",
       "    .dataframe tbody tr th {\n",
       "        vertical-align: top;\n",
       "    }\n",
       "\n",
       "    .dataframe thead th {\n",
       "        text-align: right;\n",
       "    }\n",
       "</style>\n",
       "<table border=\"1\" class=\"dataframe\">\n",
       "  <thead>\n",
       "    <tr style=\"text-align: right;\">\n",
       "      <th></th>\n",
       "      <th>loan_amnt</th>\n",
       "      <th>fico_range_avg</th>\n",
       "      <th>dti</th>\n",
       "      <th>emp_length</th>\n",
       "    </tr>\n",
       "  </thead>\n",
       "  <tbody>\n",
       "    <tr>\n",
       "      <th>0</th>\n",
       "      <td>5000.0</td>\n",
       "      <td>737.0</td>\n",
       "      <td>27.65</td>\n",
       "      <td>10</td>\n",
       "    </tr>\n",
       "    <tr>\n",
       "      <th>1</th>\n",
       "      <td>2500.0</td>\n",
       "      <td>742.0</td>\n",
       "      <td>1.00</td>\n",
       "      <td>1</td>\n",
       "    </tr>\n",
       "    <tr>\n",
       "      <th>2</th>\n",
       "      <td>2400.0</td>\n",
       "      <td>737.0</td>\n",
       "      <td>8.72</td>\n",
       "      <td>10</td>\n",
       "    </tr>\n",
       "    <tr>\n",
       "      <th>3</th>\n",
       "      <td>10000.0</td>\n",
       "      <td>692.0</td>\n",
       "      <td>20.00</td>\n",
       "      <td>10</td>\n",
       "    </tr>\n",
       "    <tr>\n",
       "      <th>4</th>\n",
       "      <td>3000.0</td>\n",
       "      <td>697.0</td>\n",
       "      <td>17.94</td>\n",
       "      <td>1</td>\n",
       "    </tr>\n",
       "  </tbody>\n",
       "</table>\n",
       "</div>"
      ],
      "text/plain": [
       "   loan_amnt  fico_range_avg    dti  emp_length\n",
       "0     5000.0           737.0  27.65          10\n",
       "1     2500.0           742.0   1.00           1\n",
       "2     2400.0           737.0   8.72          10\n",
       "3    10000.0           692.0  20.00          10\n",
       "4     3000.0           697.0  17.94           1"
      ]
     },
     "execution_count": 76,
     "metadata": {},
     "output_type": "execute_result"
    }
   ],
   "source": [
    "target = df[\"policy_code\"]\n",
    "data = df.drop([\"policy_code\",\"Sl_No\"], axis=1)\n",
    "data.fillna(0)\n",
    "feature_names = data.columns\n",
    "data.head()\n"
   ]
  },
  {
   "cell_type": "code",
   "execution_count": 163,
   "metadata": {},
   "outputs": [
    {
     "data": {
      "text/plain": [
       "55525"
      ]
     },
     "execution_count": 163,
     "metadata": {},
     "output_type": "execute_result"
    }
   ],
   "source": [
    "def RF_Model():\n",
    "    #callable function. returns a dictionary with values to be used, including a data frame key-element pair.\n",
    "    \n",
    "    RF_Dict = {}\n",
    "    df = pd.read_csv(\"combine_data.csv\")\n",
    "    df = df.fillna(0)\n",
    "    df['policy_code'] = df['policy_code'].astype(int)\n",
    "    df['emp_length'] = df['emp_length'].astype(int)\n",
    "    df['dti'].fillna(0)\n",
    "    df['dti'] = df['dti'].str.rstrip('%').astype('float')\n",
    "    df = df.rename(columns = {\"Unnamed: 0\":\"Sl_No\"})\n",
    "    df.set_index('Sl_No')\n",
    "    \n",
    "    target = df[\"policy_code\"]\n",
    "    data = df.drop([\"policy_code\",\"Sl_No\"], axis=1)\n",
    "    data.fillna(0)\n",
    "    feature_names = data.columns\n",
    "\n",
    "    from sklearn.model_selection import train_test_split\n",
    "    X_train, X_test, y_train, y_test = train_test_split(data, target, random_state=42,test_size=0.4)\n",
    "\n",
    "    clf = tree.DecisionTreeClassifier()\n",
    "    clf = clf.fit(X_train, y_train)\n",
    "                          \n",
    "    RF_Dict[\"clf\"] = clf\n",
    "    RF_Dict[\"clf score\"] = clf.score(X_test, y_test)\n",
    "\n",
    "    from sklearn.ensemble import RandomForestClassifier\n",
    "    rf = RandomForestClassifier(n_estimators=200)\n",
    "    rf = rf.fit(X_train, y_train)\n",
    "                          \n",
    "    RF_Dict[\"rf\"] = rf\n",
    "    RF_Dict[\"rf score\"] =  rf.score(X_test, y_test)\n",
    "\n",
    "\n",
    "    sorted(zip(rf.feature_importances_, feature_names), reverse=True)\n",
    "    df['dti'].fillna(0)\n",
    "    df['dti'] = df['dti'].str.rstrip('%').astype('float')\n",
    "    df = df.rename(columns = {\"Unnamed: 0\":\"Sl_No\"})\n",
    "    df.set_index('Sl_No')\n",
    "                          \n",
    "    RF_Dict[\"sorted\"] = sorted(zip(rf.feature_importances_, feature_names), reverse=True)\n",
    "    RF_Dict[\"df\"] = df\n",
    "    return RF_Dict\n",
    "len(y_train.values)\n"
   ]
  },
  {
   "cell_type": "code",
   "execution_count": 166,
   "metadata": {},
   "outputs": [],
   "source": [
    "import numpy.random as rand\n",
    "from sklearn.model_selection import train_test_split\n",
    "\n",
    "X_train, X_test, y_train, y_test = train_test_split(data, target, random_state=42,test_size=0.4)\n",
    "\n",
    "xTrain = []\n",
    "yTrain = []\n",
    "numA = rand.randint(0, len(X_train.values), 10) #largest sample size that reasonably works\n",
    "\n",
    "for n in numA:\n",
    "    xTrain.append(X_train.values[n])\n",
    "    yTrain.append(y_train.values[n])\n",
    "    \n",
    "xTrain = np.asarray(xTrain)\n",
    "yTrain = np.asarray(yTrain)\n",
    "\n",
    "\n",
    "\n",
    "\n",
    "\n",
    "#clf.score(X_test, y_test)"
   ]
  },
  {
   "cell_type": "code",
   "execution_count": 169,
   "metadata": {},
   "outputs": [
    {
     "data": {
      "text/plain": [
       "0.71"
      ]
     },
     "execution_count": 169,
     "metadata": {},
     "output_type": "execute_result"
    }
   ],
   "source": [
    "\n",
    "clf = tree.DecisionTreeClassifier()\n",
    "clf = clf.fit(xTrain, yTrain)\n",
    "clf.score(X_test[:100], y_test[:100])\n"
   ]
  },
  {
   "cell_type": "code",
   "execution_count": 168,
   "metadata": {},
   "outputs": [
    {
     "data": {
      "text/plain": [
       "0.825"
      ]
     },
     "execution_count": 168,
     "metadata": {},
     "output_type": "execute_result"
    }
   ],
   "source": [
    "from sklearn.ensemble import RandomForestClassifier\n",
    "rf = RandomForestClassifier(n_estimators=200)\n",
    "rf = rf.fit(X_train[:80], y_train[:80])\n",
    "rf.score(X_test[:80], y_test[:80])"
   ]
  },
  {
   "cell_type": "code",
   "execution_count": 109,
   "metadata": {},
   "outputs": [
    {
     "data": {
      "text/plain": [
       "[(0.5717184806962102, 'fico_range_avg'),\n",
       " (0.26259969760654256, 'dti'),\n",
       " (0.10137910477219055, 'loan_amnt'),\n",
       " (0.06430271692505665, 'emp_length')]"
      ]
     },
     "execution_count": 109,
     "metadata": {},
     "output_type": "execute_result"
    }
   ],
   "source": [
    "sorted(zip(rf.feature_importances_, feature_names), reverse=True)"
   ]
  },
  {
   "cell_type": "code",
   "execution_count": 117,
   "metadata": {},
   "outputs": [
    {
     "name": "stdout",
     "output_type": "stream",
     "text": [
      "First 100 Predictions:   [1 0 0 1 0 0 1 0 0 1 0 0 0 0 0 0 0 0 1 0 1 1 1 0 1 0 0 1 1 1 0 0 0 0 1 0 0\n",
      " 1 1 0 0 1 0 0 0 0 0 0 1 0 1 0 0 1 0 0 0 1 0 0 0 1 0 0 0 0 1 1 0 1 0 1 1 0\n",
      " 0 1 0 1 0 0 1 1 0 0 1 1 0 1 1 0 1 0 0 0 0 1 1 0 0 0]\n",
      "First 100 Actual labels: [1, 0, 0, 0, 0, 1, 1, 0, 0, 1, 1, 0, 0, 0, 0, 0, 0, 1, 1, 0, 0, 1, 1, 0, 1, 0, 0, 0, 1, 0, 0, 1, 0, 0, 1, 0, 1, 1, 1, 0, 1, 1, 1, 0, 0, 0, 0, 0, 1, 0, 0, 0, 0, 1, 0, 0, 0, 1, 0, 0, 0, 1, 0, 1, 1, 1, 0, 1, 0, 1, 0, 1, 1, 1, 1, 0, 0, 0, 0, 0, 1, 1, 1, 0, 1, 1, 0, 1, 1, 0, 1, 0, 0, 0, 0, 1, 1, 0, 0, 1]\n"
     ]
    }
   ],
   "source": [
    "#Auc plot\n",
    "# plots with target and variable\n",
    "# recall =\n",
    "from sklearn.metrics import confusion_matrix\n",
    "predictions = clf.predict(X_test[:100])\n",
    "\n",
    "print(f\"First 100 Predictions:   {predictions[:100]}\")\n",
    "print(f\"First 100 Actual labels: {y_test[:100].tolist()}\")\n"
   ]
  },
  {
   "cell_type": "code",
   "execution_count": 122,
   "metadata": {},
   "outputs": [
    {
     "data": {
      "text/plain": [
       "100"
      ]
     },
     "execution_count": 122,
     "metadata": {},
     "output_type": "execute_result"
    }
   ],
   "source": [
    "pd.DataFrame({\"Prediction\": predictions, \"Actual\": y_test[:len(predictions)]}).reset_index(drop=True)\n",
    "len(predictions)"
   ]
  },
  {
   "cell_type": "code",
   "execution_count": 123,
   "metadata": {},
   "outputs": [
    {
     "name": "stdout",
     "output_type": "stream",
     "text": [
      "tn:  29   fp:   8\n",
      "fn:  14   tp:  49\n"
     ]
    },
    {
     "data": {
      "text/plain": [
       "array([[49,  8],\n",
       "       [14, 29]], dtype=int64)"
      ]
     },
     "execution_count": 123,
     "metadata": {},
     "output_type": "execute_result"
    }
   ],
   "source": [
    "cnf = confusion_matrix(y_test[:100], predictions)\n",
    "tp, fp, fn, tn = confusion_matrix(y_test[:100], predictions).ravel()\n",
    "print(f\"tn: {tn:3d}   fp: {fp:3d}\")\n",
    "print(f\"fn: {fn:3d}   tp: {tp:3d}\")\n",
    "cnf"
   ]
  },
  {
   "cell_type": "code",
   "execution_count": null,
   "metadata": {},
   "outputs": [],
   "source": [
    "# recall = tp/tp+fn\n",
    "# precision = tp/tp +fp\n",
    "# accuracy = tp+tn/total\n",
    "\n",
    "print(f\"recall:{tp/(tp+fn)}\")\n",
    "print(f\"precision:{tp/(tp +fp)}\")\n",
    "print(f\"accuracy:{(tp+tn)/(tp+tn+fn+fp)}\")\n",
    "\n",
    "\n"
   ]
  }
 ],
 "metadata": {
  "kernelspec": {
   "display_name": "Python 3",
   "language": "python",
   "name": "python3"
  },
  "language_info": {
   "codemirror_mode": {
    "name": "ipython",
    "version": 3
   },
   "file_extension": ".py",
   "mimetype": "text/x-python",
   "name": "python",
   "nbconvert_exporter": "python",
   "pygments_lexer": "ipython3",
   "version": "3.7.0"
  }
 },
 "nbformat": 4,
 "nbformat_minor": 2
}
