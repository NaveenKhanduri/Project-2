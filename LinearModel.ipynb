{
 "cells": [
  {
   "cell_type": "code",
   "execution_count": 1,
   "metadata": {},
   "outputs": [],
   "source": [
    "import matplotlib.pyplot as plt\n",
    "import numpy as np\n",
    "from sklearn import datasets, linear_model\n",
    "from sklearn.model_selection import train_test_split \n",
    "from sklearn.metrics import mean_squared_error, r2_score\n",
    "from sklearn import metrics as m\n",
    "import pandas as pd\n",
    "import pickle as pk"
   ]
  },
  {
   "cell_type": "code",
   "execution_count": 2,
   "metadata": {},
   "outputs": [
    {
     "data": {
      "text/plain": [
       "85247"
      ]
     },
     "execution_count": 2,
     "metadata": {},
     "output_type": "execute_result"
    }
   ],
   "source": [
    "df = pd.read_csv(\"combine_data.csv\")\n",
    "df = df.fillna(0)\n",
    "df['policy_code'] = df['policy_code'].astype(int)\n",
    "df['emp_length'] = df['emp_length'].astype(int)\n",
    "df['dti'].fillna(0)\n",
    "df['dti'] = df['dti'].str.rstrip('%').astype('float')\n",
    "for c in df.columns:\n",
    "    df[c] = pd.to_numeric(df[c], errors='coerce') \n",
    "df = df.rename(columns = {\"Unnamed: 0\":\"Sl_No\"})\n",
    "df.set_index('Sl_No')\n",
    "#the fico scores of 0 are numerical outliers, and so are ignored\n",
    "df = df.loc[df[\"fico_range_avg\"] > 0]\n",
    "len(df[\"fico_range_avg\"].values)"
   ]
  },
  {
   "cell_type": "code",
   "execution_count": 3,
   "metadata": {},
   "outputs": [],
   "source": [
    "def LinearModel():\n",
    "    \n",
    "    linearDict = {}\n",
    "    \n",
    "    df = pd.read_csv(\"combine_data.csv\")\n",
    "    df = df.fillna(0)\n",
    "    df['policy_code'] = df['policy_code'].astype(int)\n",
    "    df['emp_length'] = df['emp_length'].astype(int)\n",
    "    df['dti'].fillna(0)\n",
    "    df['dti'] = df['dti'].str.rstrip('%').astype('float')\n",
    "    for c in df.columns:\n",
    "        df[c] = pd.to_numeric(df[c], errors='coerce') \n",
    "    df = df.rename(columns = {\"Unnamed: 0\":\"Sl_No\"})\n",
    "    df.set_index('Sl_No')\n",
    "\n",
    "    \n",
    "    \n",
    "    \n",
    "    \n",
    "    return linearDict\n",
    "    "
   ]
  },
  {
   "cell_type": "code",
   "execution_count": 4,
   "metadata": {},
   "outputs": [],
   "source": [
    "x = df[[\"fico_range_avg\",'dti','emp_length']].values.reshape(-1,3)\n",
    "y = df[\"loan_amnt\"].values.reshape(-1, 1)\n",
    "\n",
    "x_train, x_test, y_train, y_test = train_test_split(x, y, test_size = .1, random_state = 42)"
   ]
  },
  {
   "cell_type": "code",
   "execution_count": 5,
   "metadata": {},
   "outputs": [],
   "source": [
    "import numpy.random as rand\n",
    "\n",
    "#randomly selects 10,000 elements from x_train and y_train, because the original set is too large\n",
    "\n",
    "num = rand.randint(0, len(y_train), 10000)\n",
    "xTrain = []\n",
    "yTrain = []\n",
    "for n in num:\n",
    "    xTrain.append(x_train[n])\n",
    "    yTrain.append(y_train[n])\n",
    "    \n",
    "xTrain = np.asarray(xTrain)\n",
    "yTrain = np.asarray(yTrain)\n"
   ]
  },
  {
   "cell_type": "code",
   "execution_count": 52,
   "metadata": {},
   "outputs": [],
   "source": [
    "reg = linear_model.LinearRegression()\n",
    "reg.fit(xTrain,yTrain)\n",
    "\n",
    "regCoef = reg.coef_\n",
    "intercept = reg.intercept_"
   ]
  },
  {
   "cell_type": "code",
   "execution_count": 7,
   "metadata": {},
   "outputs": [
    {
     "data": {
      "text/plain": [
       "array([-3545.70168026])"
      ]
     },
     "execution_count": 7,
     "metadata": {},
     "output_type": "execute_result"
    }
   ],
   "source": [
    "predicted = reg.predict(x_test)\n",
    "actual = y_test\n",
    "score = reg.score(xTrain, yTrain)\n"
   ]
  },
  {
   "cell_type": "code",
   "execution_count": 10,
   "metadata": {},
   "outputs": [
    {
     "data": {
      "text/plain": [
       "8525"
      ]
     },
     "execution_count": 10,
     "metadata": {},
     "output_type": "execute_result"
    }
   ],
   "source": [
    "#compare[\"difference\"] = compare[\"actual\"] - compare[\"predicted\"]\n",
    "compare = pd.DataFrame({\"actual\": y_test.flatten(), \"predicted\": predicted.flatten()})\n",
    "compare[\"difference\"] = np.sqrt((compare[\"actual\"] - compare[\"predicted\"])**2)\n",
    "index = compare.index.values\n",
    "len(index)"
   ]
  },
  {
   "cell_type": "code",
   "execution_count": 11,
   "metadata": {},
   "outputs": [
    {
     "data": {
      "text/html": [
       "<div>\n",
       "<style scoped>\n",
       "    .dataframe tbody tr th:only-of-type {\n",
       "        vertical-align: middle;\n",
       "    }\n",
       "\n",
       "    .dataframe tbody tr th {\n",
       "        vertical-align: top;\n",
       "    }\n",
       "\n",
       "    .dataframe thead th {\n",
       "        text-align: right;\n",
       "    }\n",
       "</style>\n",
       "<table border=\"1\" class=\"dataframe\">\n",
       "  <thead>\n",
       "    <tr style=\"text-align: right;\">\n",
       "      <th></th>\n",
       "      <th>actual</th>\n",
       "      <th>predicted</th>\n",
       "      <th>difference</th>\n",
       "    </tr>\n",
       "  </thead>\n",
       "  <tbody>\n",
       "    <tr>\n",
       "      <th>0</th>\n",
       "      <td>8500.0</td>\n",
       "      <td>9422.935424</td>\n",
       "      <td>922.935424</td>\n",
       "    </tr>\n",
       "    <tr>\n",
       "      <th>1</th>\n",
       "      <td>12000.0</td>\n",
       "      <td>9895.314260</td>\n",
       "      <td>2104.685740</td>\n",
       "    </tr>\n",
       "    <tr>\n",
       "      <th>2</th>\n",
       "      <td>10000.0</td>\n",
       "      <td>9625.361767</td>\n",
       "      <td>374.638233</td>\n",
       "    </tr>\n",
       "    <tr>\n",
       "      <th>3</th>\n",
       "      <td>20000.0</td>\n",
       "      <td>9347.501151</td>\n",
       "      <td>10652.498849</td>\n",
       "    </tr>\n",
       "    <tr>\n",
       "      <th>4</th>\n",
       "      <td>1500.0</td>\n",
       "      <td>9706.421253</td>\n",
       "      <td>8206.421253</td>\n",
       "    </tr>\n",
       "  </tbody>\n",
       "</table>\n",
       "</div>"
      ],
      "text/plain": [
       "    actual    predicted    difference\n",
       "0   8500.0  9422.935424    922.935424\n",
       "1  12000.0  9895.314260   2104.685740\n",
       "2  10000.0  9625.361767    374.638233\n",
       "3  20000.0  9347.501151  10652.498849\n",
       "4   1500.0  9706.421253   8206.421253"
      ]
     },
     "execution_count": 11,
     "metadata": {},
     "output_type": "execute_result"
    }
   ],
   "source": [
    "compare.head()"
   ]
  },
  {
   "cell_type": "code",
   "execution_count": 12,
   "metadata": {},
   "outputs": [
    {
     "data": {
      "image/png": "[encoded data removed]",
      "text/plain": [
       "<Figure size 432x288 with 1 Axes>"
      ]
     },
     "metadata": {
      "needs_background": "light"
     },
     "output_type": "display_data"
    }
   ],
   "source": [
    "plt.scatter(index, actual,  color='gray')\n",
    "plt.scatter(index, predicted, color='red', linewidth=2)\n",
    "plt.title(\"loan amnt vs. 3 variables\")\n",
    "plt.savefig(\"3_variables.png\")\n",
    "plt.show()\n"
   ]
  },
  {
   "cell_type": "code",
   "execution_count": 13,
   "metadata": {},
   "outputs": [
    {
     "name": "stdout",
     "output_type": "stream",
     "text": [
      "mean absolute error:  5498.346633309944\n",
      "root mean squared error:  6928.657047197386\n",
      "0.07722977260040087\n"
     ]
    }
   ],
   "source": [
    "mae = m.mean_absolute_error(actual, predicted)\n",
    "mse = m.mean_squared_error(actual, predicted)\n",
    "rmse = np.sqrt(mse)\n",
    "score = reg.score(x_test, y_test)\n",
    "print(\"mean absolute error: \",mae)\n",
    "print(\"root mean squared error: \", rmse)\n",
    "print(score)"
   ]
  },
  {
   "cell_type": "code",
   "execution_count": 14,
   "metadata": {},
   "outputs": [
    {
     "name": "stderr",
     "output_type": "stream",
     "text": [
      "C:\\Users\\Naveen\\Anaconda3\\lib\\site-packages\\IPython\\core\\interactiveshell.py:2785: DtypeWarning: Columns (0,49) have mixed types. Specify dtype option on import or set low_memory=False.\n",
      "  interactivity=interactivity, compiler=compiler, result=result)\n"
     ]
    }
   ],
   "source": [
    "#regression model to determine accepted loan amount\n",
    "\n",
    "\n",
    "Df = pd.DataFrame(pd.read_csv(\"LoanStats3a_securev1.csv\"))\n",
    "Df[\"policy_code\"] = Df['policy_code'].fillna(0)\n",
    "Df['policy_code'] = Df['policy_code'].astype(int)\n",
    "\n",
    "Df['emp_length'].replace(['<','+','years','year'],'')\n",
    "Df.replace(['<','+','years','year'],'')\n",
    "\n",
    "for toRep in ['<','+','years','year']:    \n",
    "   Df['emp_length']=Df['emp_length'].str.replace(toRep,'') \n",
    "\n",
    "Df.emp_length=pd.to_numeric(df.emp_length)\n",
    "\n",
    "#Df['emp_length'] = Df['emp_length'].astype(int)\n",
    "Df['dti'].fillna(0)\n",
    "#Df['dti'] = Df['dti'].str.rstrip('%').astype('float')\n",
    "for c in Df.columns:\n",
    "    Df[c] = pd.to_numeric(Df[c], errors='coerce') \n",
    "Df[\"fico_range_avg\"] = (Df[\"fico_range_low\"] + Df[\"fico_range_high\"])/2.0\n",
    "Df[\"fico_range_avg\"].fillna(0)\n",
    "#Df = Df.loc[Df[\"fico_range_avg\"] > 0]\n",
    "Df[\"annual_inc\"].fillna(0)\n",
    "len(Df.columns.values)\n",
    "Df = Df.rename(columns = {\"Unnamed: 0\":\"Sl_No\"})\n",
    "#the fico scores of 0 are numerical outliers, and so are ignored\n"
   ]
  },
  {
   "cell_type": "code",
   "execution_count": 15,
   "metadata": {},
   "outputs": [
    {
     "data": {
      "text/plain": [
       "42542"
      ]
     },
     "execution_count": 15,
     "metadata": {},
     "output_type": "execute_result"
    }
   ],
   "source": [
    "len(Df.index.values)"
   ]
  },
  {
   "cell_type": "code",
   "execution_count": 53,
   "metadata": {},
   "outputs": [],
   "source": [
    "Df = Df.dropna(axis = \"columns\", thresh = len(Df.index) - 1)\n",
    "Df = Df.dropna(axis = 0)\n",
    "Df.head()\n",
    "Df.to_csv(\"linearModel_aloan.csv\")"
   ]
  },
  {
   "cell_type": "code",
   "execution_count": 54,
   "metadata": {},
   "outputs": [
    {
     "data": {
      "text/plain": [
       "array(['id', 'loan_amnt', 'funded_amnt', 'funded_amnt_inv', 'installment',\n",
       "       'emp_length', 'annual_inc', 'dti', 'fico_range_low',\n",
       "       'fico_range_high', 'revol_bal', 'out_prncp', 'out_prncp_inv',\n",
       "       'total_pymnt', 'total_pymnt_inv', 'total_rec_prncp',\n",
       "       'total_rec_int', 'total_rec_late_fee', 'recoveries',\n",
       "       'collection_recovery_fee', 'last_pymnt_amnt',\n",
       "       'last_fico_range_high', 'last_fico_range_low', 'policy_code',\n",
       "       'fico_range_avg'], dtype=object)"
      ]
     },
     "execution_count": 54,
     "metadata": {},
     "output_type": "execute_result"
    }
   ],
   "source": [
    "Df.columns.values"
   ]
  },
  {
   "cell_type": "code",
   "execution_count": 77,
   "metadata": {},
   "outputs": [],
   "source": [
    "#xA = Df[[\"fico_range_avg\",'dti','emp_length', \"funded_amnt\", 'installment']].values.reshape(-1,5)\n",
    "valuesA = ['dti', 'emp_length', 'funded_amnt', 'fico_range_avg']\n",
    "xA = Df[['dti','emp_length', \"funded_amnt\", 'fico_range_avg']].values.reshape(-1,4)\n",
    "yA = Df[\"loan_amnt\"].values.reshape(-1, 1)\n",
    "#annual income not significant factor\n",
    "x_trainA, x_testA, y_trainA, y_testA = train_test_split(xA, yA, test_size = .01, random_state = 0)"
   ]
  },
  {
   "cell_type": "code",
   "execution_count": 78,
   "metadata": {},
   "outputs": [],
   "source": [
    "xTrainA = []\n",
    "yTrainA = []\n",
    "numA = rand.randint(0, len(y_trainA) - 2, 10000) #largest sample size that reasonably works\n",
    "\n",
    "for n in numA:\n",
    "    xTrainA.append(x_trainA[n])\n",
    "    yTrainA.append(y_trainA[n])\n",
    "    \n",
    "xTrainA = np.asarray(xTrainA)\n",
    "yTrainA = np.asarray(yTrainA)\n",
    "\n",
    "xTrainB = []\n",
    "yTrainB = []\n",
    "numB = rand.randint(0, len(y_trainA) - 2, 10000)\n",
    "\n",
    "for l in numB:\n",
    "    xTrainB.append(x_trainA[l])\n",
    "    yTrainB.append(y_trainA[l])\n",
    "    \n",
    "xTrainB = np.asarray(xTrainB)\n",
    "yTrainB = np.asarray(yTrainB)\n"
   ]
  },
  {
   "cell_type": "code",
   "execution_count": 80,
   "metadata": {},
   "outputs": [
    {
     "name": "stdout",
     "output_type": "stream",
     "text": [
      "dti :  1.2405157103393922\n",
      "emp_length :  7.571016280535659\n",
      "funded_amnt :  1.0171710643399046\n",
      "fico_range_avg :  1.7190468373053984\n"
     ]
    }
   ],
   "source": [
    "regA = linear_model.LinearRegression().fit(xTrainA,yTrainA)\n",
    "regA.intercept_\n",
    "scoreA = regA.score(x_testA, y_testA)\n",
    "coefA = regA.coef_.tolist()\n",
    "\n",
    "for i in range(0,4):\n",
    "    print(valuesA[i], \": \", coefA[0][i])\n",
    "        "
   ]
  },
  {
   "cell_type": "code",
   "execution_count": 75,
   "metadata": {},
   "outputs": [
    {
     "data": {
      "text/plain": [
       "array([[ 4.15271528, 11.56348868,  1.01644572]])"
      ]
     },
     "execution_count": 75,
     "metadata": {},
     "output_type": "execute_result"
    }
   ],
   "source": [
    "regA.predict([[1.4, 20, 1000]])\n",
    "coefA"
   ]
  },
  {
   "cell_type": "code",
   "execution_count": 51,
   "metadata": {},
   "outputs": [
    {
     "name": "stdout",
     "output_type": "stream",
     "text": [
      "merged score:  0.07722977260040087\n",
      "aloan score:  0.9640265582619476\n"
     ]
    }
   ],
   "source": [
    "predictedA = regA.predict(x_testA)\n",
    "actualA = y_testA\n",
    "print(\"merged score: \", score)\n",
    "print(\"aloan score: \", scoreA)"
   ]
  },
  {
   "cell_type": "code",
   "execution_count": 46,
   "metadata": {},
   "outputs": [
    {
     "data": {
      "image/png": "[encoded data removed]",
      "text/plain": [
       "<Figure size 432x288 with 1 Axes>"
      ]
     },
     "metadata": {
      "needs_background": "light"
     },
     "output_type": "display_data"
    }
   ],
   "source": [
    "\n",
    "plt.scatter(actualA, predictedA)\n",
    "plt.title(\"actual loan_amnt vs. expected\")\n",
    "plt.savefig(\"pred_vs_actual.png\")\n",
    "plt.show()"
   ]
  },
  {
   "cell_type": "code",
   "execution_count": 24,
   "metadata": {},
   "outputs": [
    {
     "data": {
      "text/html": [
       "<div>\n",
       "<style scoped>\n",
       "    .dataframe tbody tr th:only-of-type {\n",
       "        vertical-align: middle;\n",
       "    }\n",
       "\n",
       "    .dataframe tbody tr th {\n",
       "        vertical-align: top;\n",
       "    }\n",
       "\n",
       "    .dataframe thead th {\n",
       "        text-align: right;\n",
       "    }\n",
       "</style>\n",
       "<table border=\"1\" class=\"dataframe\">\n",
       "  <thead>\n",
       "    <tr style=\"text-align: right;\">\n",
       "      <th></th>\n",
       "      <th>predicted</th>\n",
       "      <th>actual</th>\n",
       "      <th>percent difference</th>\n",
       "    </tr>\n",
       "  </thead>\n",
       "  <tbody>\n",
       "    <tr>\n",
       "      <th>0</th>\n",
       "      <td>20551.307634</td>\n",
       "      <td>20000.0</td>\n",
       "      <td>2.756538</td>\n",
       "    </tr>\n",
       "    <tr>\n",
       "      <th>1</th>\n",
       "      <td>15282.761643</td>\n",
       "      <td>15000.0</td>\n",
       "      <td>1.885078</td>\n",
       "    </tr>\n",
       "    <tr>\n",
       "      <th>2</th>\n",
       "      <td>8711.057915</td>\n",
       "      <td>8400.0</td>\n",
       "      <td>3.703070</td>\n",
       "    </tr>\n",
       "    <tr>\n",
       "      <th>3</th>\n",
       "      <td>6707.527444</td>\n",
       "      <td>6600.0</td>\n",
       "      <td>1.629204</td>\n",
       "    </tr>\n",
       "    <tr>\n",
       "      <th>4</th>\n",
       "      <td>12172.042025</td>\n",
       "      <td>12000.0</td>\n",
       "      <td>1.433684</td>\n",
       "    </tr>\n",
       "  </tbody>\n",
       "</table>\n",
       "</div>"
      ],
      "text/plain": [
       "      predicted   actual  percent difference\n",
       "0  20551.307634  20000.0            2.756538\n",
       "1  15282.761643  15000.0            1.885078\n",
       "2   8711.057915   8400.0            3.703070\n",
       "3   6707.527444   6600.0            1.629204\n",
       "4  12172.042025  12000.0            1.433684"
      ]
     },
     "execution_count": 24,
     "metadata": {},
     "output_type": "execute_result"
    }
   ],
   "source": [
    "compareA = pd.DataFrame({\"predicted\": predictedA.flatten(), 'actual': actualA.flatten()})\n",
    "compareA[\"percent difference\"] = (np.sqrt((compareA[\"actual\"] - compareA[\"predicted\"])**2))*(100/compareA['actual'])\n",
    "indexA= compareA.index.values\n",
    "#compareA = compareA.sort_values(by = 'actual')\n",
    "compareA.head()"
   ]
  },
  {
   "cell_type": "code",
   "execution_count": 25,
   "metadata": {},
   "outputs": [
    {
     "data": {
      "image/png": "[encoded data removed]",
      "text/plain": [
       "<Figure size 432x288 with 1 Axes>"
      ]
     },
     "metadata": {
      "needs_background": "light"
     },
     "output_type": "display_data"
    }
   ],
   "source": [
    "plt.scatter(indexA, actualA,  color='gray')\n",
    "plt.scatter(indexA, predictedA, color='red')\n",
    "plt.title(\"Loan accepted vs.4 variables\")\n",
    "plt.savefig(\"4_variables\")\n",
    "plt.show()"
   ]
  },
  {
   "cell_type": "code",
   "execution_count": 26,
   "metadata": {},
   "outputs": [
    {
     "name": "stdout",
     "output_type": "stream",
     "text": [
      "mean absolute error:  501.4358005126131\n",
      "root mean squared error:  1354.003761728888\n",
      "r-squared coeffecient:  0.9643468534774952\n"
     ]
    }
   ],
   "source": [
    "mae = m.mean_absolute_error(actualA, predictedA)\n",
    "mse = m.mean_squared_error(actualA, predictedA)\n",
    "rmse = np.sqrt(mse)\n",
    "print(\"mean absolute error: \", mae)\n",
    "print(\"root mean squared error: \", rmse)\n",
    "print(\"r-squared coeffecient: \", scoreA)"
   ]
  },
  {
   "cell_type": "code",
   "execution_count": 27,
   "metadata": {},
   "outputs": [
    {
     "data": {
      "text/plain": [
       "array([[2.64324175, 8.17489147, 9.79586423, 1.02036848]])"
      ]
     },
     "execution_count": 27,
     "metadata": {},
     "output_type": "execute_result"
    }
   ],
   "source": [
    "regb = linear_model.LinearRegression().fit(xTrainB,yTrainB)\n",
    "regb.coef_"
   ]
  },
  {
   "cell_type": "code",
   "execution_count": 28,
   "metadata": {},
   "outputs": [
    {
     "data": {
      "text/plain": [
       "0.9642310216872902"
      ]
     },
     "execution_count": 28,
     "metadata": {},
     "output_type": "execute_result"
    }
   ],
   "source": [
    "predictedb = regb.predict(x_testA)\n",
    "actualb = y_testA\n",
    "regb.score(x_testA, y_testA)"
   ]
  },
  {
   "cell_type": "code",
   "execution_count": 29,
   "metadata": {},
   "outputs": [
    {
     "data": {
      "text/plain": [
       "8525"
      ]
     },
     "execution_count": 29,
     "metadata": {},
     "output_type": "execute_result"
    }
   ],
   "source": [
    "len(predicted)"
   ]
  },
  {
   "cell_type": "code",
   "execution_count": 31,
   "metadata": {},
   "outputs": [],
   "source": [
    "stuff = [[Df[\"fico_range_avg\"][0], Df['dti'][0], Df['emp_length'][0], Df[\"funded_amnt\"][0]]]"
   ]
  },
  {
   "cell_type": "code",
   "execution_count": 36,
   "metadata": {},
   "outputs": [
    {
     "data": {
      "text/plain": [
       "array([[5591.99342897]])"
      ]
     },
     "execution_count": 36,
     "metadata": {},
     "output_type": "execute_result"
    }
   ],
   "source": [
    "regb.predict([[805, 27.65, 10, 5000.00]])\n"
   ]
  },
  {
   "cell_type": "code",
   "execution_count": 37,
   "metadata": {},
   "outputs": [
    {
     "data": {
      "text/plain": [
       "array([[1327.8062043]])"
      ]
     },
     "execution_count": 37,
     "metadata": {},
     "output_type": "execute_result"
    }
   ],
   "source": [
    "regb.predict([[780, 1.4, 20, 1000]])"
   ]
  },
  {
   "cell_type": "code",
   "execution_count": null,
   "metadata": {},
   "outputs": [],
   "source": []
  },
  {
   "cell_type": "code",
   "execution_count": null,
   "metadata": {},
   "outputs": [],
   "source": []
  }
 ],
 "metadata": {
  "kernelspec": {
   "display_name": "Python 3",
   "language": "python",
   "name": "python3"
  },
  "language_info": {
   "codemirror_mode": {
    "name": "ipython",
    "version": 3
   },
   "file_extension": ".py",
   "mimetype": "text/x-python",
   "name": "python",
   "nbconvert_exporter": "python",
   "pygments_lexer": "ipython3",
   "version": "3.7.0"
  }
 },
 "nbformat": 4,
 "nbformat_minor": 2
}
